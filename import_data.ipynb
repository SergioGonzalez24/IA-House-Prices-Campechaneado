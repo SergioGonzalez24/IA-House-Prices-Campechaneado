{
 "cells": [
  {
   "cell_type": "code",
   "execution_count": 1,
   "metadata": {},
   "outputs": [
    {
     "name": "stdout",
     "output_type": "stream",
     "text": [
      "Downloading house-prices-advanced-regression-techniques.zip to /Users/sergiogonzalez/Documents/GitHub/IA-House-Prices-Campechaneado\n",
      "100%|█████████████████████████████████████████| 199k/199k [00:00<00:00, 553kB/s]\n",
      "100%|█████████████████████████████████████████| 199k/199k [00:00<00:00, 551kB/s]\n"
     ]
    }
   ],
   "source": [
    "#import dataset\n",
    "\n",
    "!kaggle competitions download -c house-prices-advanced-regression-techniques\n"
   ]
  },
  {
   "cell_type": "code",
   "execution_count": 2,
   "metadata": {},
   "outputs": [],
   "source": [
    "import pandas as pd\n",
    "import numpy as np"
   ]
  }
 ],
 "metadata": {
  "kernelspec": {
   "display_name": "base",
   "language": "python",
   "name": "python3"
  },
  "language_info": {
   "codemirror_mode": {
    "name": "ipython",
    "version": 3
   },
   "file_extension": ".py",
   "mimetype": "text/x-python",
   "name": "python",
   "nbconvert_exporter": "python",
   "pygments_lexer": "ipython3",
   "version": "3.11.3"
  },
  "orig_nbformat": 4
 },
 "nbformat": 4,
 "nbformat_minor": 2
}
