{
 "cells": [
  {
   "cell_type": "code",
   "execution_count": 95,
   "metadata": {},
   "outputs": [],
   "source": [
    "#Libraries\n",
    "import pypyodbc\n",
    "import pandas as pd\n",
    "#Conn and credentials\n",
    "conn_str = 'Driver={ODBC Driver 18 for SQL Server};Server=tcp:servidortcprueba.database.windows.net,1433;Database=db_campechanos;Uid=adminraul;Pwd=5ccu9$j$XzhNMMF;Encrypt=yes;TrustServerCertificate=no;Connection Timeout=30;'\n",
    "connection = pypyodbc.connect(conn_str)\n",
    "cursor = connection.cursor()\n",
    "\n",
    "#Training dataset\n",
    "query = \"SELECT * FROM train\"\n",
    "cursor.execute(query)\n",
    "rows = cursor.fetchall()\n",
    "df_train = pd.DataFrame(rows)\n",
    "\n",
    "columns = [column[0] for column in cursor.description]\n",
    "df_train.columns = columns\n",
    "\n",
    "#Test dataset, dont have sales price\n",
    "query = \"SELECT * FROM test\"\n",
    "cursor.execute(query)\n",
    "rows = cursor.fetchall()\n",
    "df_test = pd.DataFrame(rows)\n",
    "\n",
    "columns = [column[0] for column in cursor.description]\n",
    "df_test.columns = columns\n",
    "\n",
    "#Sample dataset, id and sales price\n",
    "query = \"SELECT * FROM sample\"\n",
    "cursor.execute(query)\n",
    "rows = cursor.fetchall()\n",
    "df_sample = pd.DataFrame(rows)\n",
    "\n",
    "columns = [column[0] for column in cursor.description]\n",
    "df_sample.columns = columns"
   ]
  },
  {
   "cell_type": "code",
   "execution_count": 96,
   "metadata": {},
   "outputs": [],
   "source": [
    "import pandas as pd\n",
    "import xgboost as xgb\n",
    "from sklearn.model_selection import train_test_split\n",
    "from sklearn.metrics import mean_squared_error, r2_score\n",
    "df_test=df_test.drop('na_mszoning',axis=1)\n",
    "df_test= df_test.drop('na_saletype',axis=1)\n",
    "columns_in_test = df_test.columns\n",
    "\n",
    "# Filtra las columnas en df_train que también están en df_test\n",
    "df_train_filtered = df_train[columns_in_test]\n",
    "X_train = df_train.drop('saleprice', axis=1)  # Ajusta 'target_column' a tu columna objetivo real\n",
    "y_train = df_train['saleprice']\n",
    "X_train = X_train.drop('id',axis=1)\n",
    "\n",
    "X_train=X_train.drop('is_house_25fstory',axis=1)\n",
    "columns_in_train = X_train.columns\n",
    "\n",
    "# Filtra las columnas en df_test que también están en df_train\n",
    "df_test_filtered = df_test[columns_in_train]\n",
    "X_test = df_test_filtered\n",
    "y_test = df_sample['saleprice']"
   ]
  },
  {
   "cell_type": "markdown",
   "metadata": {},
   "source": [
    "## Model 1 without changes"
   ]
  },
  {
   "cell_type": "code",
   "execution_count": 97,
   "metadata": {},
   "outputs": [
    {
     "name": "stdout",
     "output_type": "stream",
     "text": [
      "lotfrontage\n",
      "lotarea\n",
      "overallqual\n",
      "overallcond\n",
      "yearbuilt\n",
      "yearremodadd\n",
      "masvnrarea\n",
      "bsmtfinsf1\n",
      "bsmtfinsf2\n",
      "bsmtunfsf\n",
      "totalbsmtsf\n",
      "_1stflrsf\n",
      "_2ndflrsf\n",
      "lowqualfinsf\n",
      "grlivarea\n",
      "bsmtfullbath\n",
      "bsmthalfbath\n",
      "fullbath\n",
      "halfbath\n",
      "bedroomabvgr\n",
      "kitchenabvgr\n",
      "totrmsabvgrd\n",
      "fireplaces\n",
      "garageyrblt\n",
      "garagecars\n",
      "garagearea\n",
      "wooddecksf\n",
      "openporchsf\n",
      "enclosedporch\n",
      "_3ssnporch\n",
      "screenporch\n",
      "poolarea\n",
      "miscval\n",
      "mosold\n",
      "yrsold\n",
      "is_zone_lres\n",
      "is_zone_mres\n",
      "is_zone_com\n",
      "is_zone_float\n",
      "is_zone_hres\n",
      "is_land_lvl\n",
      "is_land_bk\n",
      "is_land_low\n",
      "is__land_hi\n",
      "is_lot_in\n",
      "is_lot_fr2\n",
      "is_lot_cor\n",
      "is_lot_culdsac\n",
      "is_fr3\n",
      "is_bldg_singlef\n",
      "is_bldg_twof\n",
      "is_bldg_du\n",
      "is_bldg_townend\n",
      "is_bldg_townins\n",
      "is_house_2story\n",
      "is_house_1story\n",
      "is_house_15fstory\n",
      "is_house_15ustory\n",
      "is_house_splitfr\n",
      "is_house_splitlvl\n",
      "is_house_25ustory\n",
      "is_roof_gable\n",
      "is_roof_hip\n",
      "is_roof_gambrel\n",
      "is_roof_mansard\n",
      "is_roof_flat\n",
      "is_roof_shed\n",
      "is_masn_brkface\n",
      "is_masn_none\n",
      "is_masn_stone\n",
      "is_masn_brk\n",
      "is_masn_na\n",
      "is_foun_pconc\n",
      "is_foun_cblock\n",
      "is_foun_brktil\n",
      "is_foun_wood\n",
      "is_foun_slab\n",
      "is_foun_stone\n",
      "is_garage_attchd\n",
      "is_garage_detchd\n",
      "is_garage_builtin\n",
      "is_garage_carport\n",
      "is_garage_none\n",
      "is_garage_basement\n",
      "is_garage_2t\n",
      "is_sale_wd\n",
      "is_sale_new\n",
      "is_sale_cod\n",
      "is_sale_conld\n",
      "is_sale_conli\n",
      "is_sale_cwd\n",
      "is_sale_conlw\n",
      "is_sale_con\n",
      "is_sale_oth\n",
      "is_salec_nom\n",
      "is_salec_anom\n",
      "is_salec_p\n",
      "is_salec_adland\n",
      "is_salec_alloca\n",
      "is_salec_f\n",
      "mssubclass\n",
      "street\n",
      "lotshape\n",
      "utilities\n",
      "landslope\n",
      "exterqual\n",
      "extercond\n",
      "bsmtqual\n",
      "bsmtcond\n",
      "bsmtexposure\n",
      "bsmtfintype1\n",
      "bsmtfintype2\n",
      "heatingqc\n",
      "centralair\n",
      "electrical\n",
      "kitchenqual\n",
      "functional\n",
      "fireplacequ\n",
      "garagefinish\n",
      "garagequal\n",
      "garagecond\n",
      "paveddrive\n",
      "fence\n",
      "ext_id_2\n",
      "cond_id_2\n",
      "neigh_id\n",
      "cond_id_1\n",
      "ext_id_1\n"
     ]
    }
   ],
   "source": [
    "for col in X_test.columns:\n",
    "    print(col)"
   ]
  },
  {
   "cell_type": "code",
   "execution_count": 104,
   "metadata": {},
   "outputs": [
    {
     "data": {
      "text/plain": [
       "128"
      ]
     },
     "execution_count": 104,
     "metadata": {},
     "output_type": "execute_result"
    }
   ],
   "source": [
    "len(X_test.columns)"
   ]
  },
  {
   "cell_type": "code",
   "execution_count": 105,
   "metadata": {},
   "outputs": [],
   "source": [
    "import numpy as np\n",
    "X_train= X_train.replace(np.nan,0)\n",
    "X_test= X_test.replace(np.nan,0)"
   ]
  },
  {
   "cell_type": "code",
   "execution_count": 107,
   "metadata": {},
   "outputs": [],
   "source": [
    "X_test.to_csv('Test_Submits.csv', index=False)"
   ]
  },
  {
   "cell_type": "code",
   "execution_count": 112,
   "metadata": {},
   "outputs": [
    {
     "name": "stdout",
     "output_type": "stream",
     "text": [
      "Error cuadrático medio (MSE): 4943187587.234059\n",
      "Coeficiente de determinación (R^2): -17.12900632190139\n"
     ]
    }
   ],
   "source": [
    "from sklearn.ensemble import RandomForestRegressor\n",
    "from sklearn.metrics import mean_squared_error, r2_score\n",
    "\n",
    "# Crear un modelo de bosque aleatorio\n",
    "model = RandomForestRegressor(random_state=42)\n",
    "\n",
    "# Entrenar el modelo\n",
    "model.fit(X_train, y_train)\n",
    "\n",
    "# Realizar predicciones en el conjunto de prueba\n",
    "y_pred = model.predict(X_test)\n",
    "\n",
    "# Calcular métricas de evaluación\n",
    "mse = mean_squared_error(y_test, y_pred)\n",
    "r2 = r2_score(y_test, y_pred)\n",
    "\n",
    "# Imprimir las métricas\n",
    "print(f\"Error cuadrático medio (MSE): {mse}\")\n",
    "print(f\"Coeficiente de determinación (R^2): {r2}\")\n"
   ]
  },
  {
   "cell_type": "code",
   "execution_count": 116,
   "metadata": {},
   "outputs": [
    {
     "name": "stdout",
     "output_type": "stream",
     "text": [
      "MSE: 4943187587.234059\n",
      "RMSE: 70307.80601920429\n",
      "R^2: -17.12900632190139\n"
     ]
    }
   ],
   "source": [
    "from sklearn.metrics import mean_squared_error, r2_score\n",
    "# Calcular el MSE (Error Cuadrático Medio)\n",
    "mse = mean_squared_error(y_test, y_pred)\n",
    "print(f\"MSE: {mse}\")\n",
    "\n",
    "# Calcular el RMSE (Raíz del Error Cuadrático Medio)\n",
    "rmse = mean_squared_error(y_test, y_pred, squared=False)\n",
    "print(f\"RMSE: {rmse}\")\n",
    "\n",
    "# Calcular el R^2 (Coeficiente de Determinación)\n",
    "r2 = r2_score(y_test, y_pred)\n",
    "print(f\"R^2: {r2}\")"
   ]
  },
  {
   "cell_type": "code",
   "execution_count": 100,
   "metadata": {},
   "outputs": [
    {
     "name": "stdout",
     "output_type": "stream",
     "text": [
      "     Id  SalePrice\n",
      "0  1461  128730.08\n",
      "1  1462  159078.40\n",
      "2  1463  184869.09\n",
      "3  1464  182197.30\n",
      "4  1465  195641.56\n"
     ]
    }
   ],
   "source": [
    "predictions_df = pd.DataFrame({'Id': df_sample['id'], 'SalePrice': y_pred})\n",
    "predictions_df.to_csv('Apredicciones.csv', index=False)\n",
    "\n",
    "# Imprime las primeras filas del archivo CSV\n",
    "print(predictions_df.head())"
   ]
  },
  {
   "cell_type": "code",
   "execution_count": 101,
   "metadata": {},
   "outputs": [
    {
     "data": {
      "text/plain": [
       "['arbol.joblib']"
      ]
     },
     "execution_count": 101,
     "metadata": {},
     "output_type": "execute_result"
    }
   ],
   "source": [
    "import joblib\n",
    "joblib.dump(model,'arbol.joblib')"
   ]
  },
  {
   "cell_type": "code",
   "execution_count": 102,
   "metadata": {},
   "outputs": [],
   "source": [
    "loaded_model = joblib.load('arbol.joblib')"
   ]
  },
  {
   "cell_type": "code",
   "execution_count": 85,
   "metadata": {},
   "outputs": [],
   "source": [
    "X_new = df_test.loc[1].values\n"
   ]
  },
  {
   "cell_type": "code",
   "execution_count": 86,
   "metadata": {},
   "outputs": [
    {
     "name": "stdout",
     "output_type": "stream",
     "text": [
      "[152303.49]\n"
     ]
    },
    {
     "name": "stderr",
     "output_type": "stream",
     "text": [
      "c:\\Users\\rauli\\anaconda3\\envs\\IA\\lib\\site-packages\\sklearn\\base.py:409: UserWarning: X does not have valid feature names, but RandomForestRegressor was fitted with feature names\n",
      "  warnings.warn(\n"
     ]
    }
   ],
   "source": [
    "predictions = loaded_model.predict(X_new.reshape(1, -1))\n",
    "print(predictions)"
   ]
  }
 ],
 "metadata": {
  "kernelspec": {
   "display_name": "IA",
   "language": "python",
   "name": "python3"
  },
  "language_info": {
   "codemirror_mode": {
    "name": "ipython",
    "version": 3
   },
   "file_extension": ".py",
   "mimetype": "text/x-python",
   "name": "python",
   "nbconvert_exporter": "python",
   "pygments_lexer": "ipython3",
   "version": "3.10.9"
  },
  "orig_nbformat": 4
 },
 "nbformat": 4,
 "nbformat_minor": 2
}
