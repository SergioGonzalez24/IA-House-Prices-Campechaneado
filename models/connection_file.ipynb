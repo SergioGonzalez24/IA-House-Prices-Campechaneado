{
 "cells": [
  {
   "cell_type": "code",
   "execution_count": 1,
   "metadata": {},
   "outputs": [],
   "source": [
    "#Libraries\n",
    "import pypyodbc\n",
    "import pandas as pd\n",
    "#Conn and credentials\n",
    "conn_str = 'Driver={ODBC Driver 18 for SQL Server};Server=tcp:servidortcprueba.database.windows.net,1433;Database=db_campechanos;Uid=adminraul;Pwd=5ccu9$j$XzhNMMF;Encrypt=yes;TrustServerCertificate=no;Connection Timeout=30;'\n",
    "connection = pypyodbc.connect(conn_str)\n",
    "cursor = connection.cursor()\n",
    "\n",
    "#Training dataset\n",
    "query = \"SELECT * FROM train\"\n",
    "cursor.execute(query)\n",
    "rows = cursor.fetchall()\n",
    "df_train = pd.DataFrame(rows)\n",
    "\n",
    "columns = [column[0] for column in cursor.description]\n",
    "df_train.columns = columns\n",
    "\n",
    "#Test dataset, dont have sales price\n",
    "query = \"SELECT * FROM test\"\n",
    "cursor.execute(query)\n",
    "rows = cursor.fetchall()\n",
    "df_test = pd.DataFrame(rows)\n",
    "\n",
    "columns = [column[0] for column in cursor.description]\n",
    "df_test.columns = columns\n",
    "\n",
    "#Sample dataset, id and sales price\n",
    "query = \"SELECT * FROM sample\"\n",
    "cursor.execute(query)\n",
    "rows = cursor.fetchall()\n",
    "df_sample = pd.DataFrame(rows)\n",
    "\n",
    "columns = [column[0] for column in cursor.description]\n",
    "df_sample.columns = columns"
   ]
  }
 ],
 "metadata": {
  "kernelspec": {
   "display_name": "IA",
   "language": "python",
   "name": "python3"
  },
  "language_info": {
   "codemirror_mode": {
    "name": "ipython",
    "version": 3
   },
   "file_extension": ".py",
   "mimetype": "text/x-python",
   "name": "python",
   "nbconvert_exporter": "python",
   "pygments_lexer": "ipython3",
   "version": "3.10.9"
  },
  "orig_nbformat": 4
 },
 "nbformat": 4,
 "nbformat_minor": 2
}
